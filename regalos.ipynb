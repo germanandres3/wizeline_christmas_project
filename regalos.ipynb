{
  "nbformat": 4,
  "nbformat_minor": 0,
  "metadata": {
    "colab": {
      "provenance": []
    },
    "kernelspec": {
      "name": "python3",
      "display_name": "Python 3"
    },
    "language_info": {
      "name": "python"
    }
  },
  "cells": [
    {
      "cell_type": "markdown",
      "source": [
        "#Extractor y Analizador de Preferencias en Redes Sociales para Ideas de Regalos"
      ],
      "metadata": {
        "id": "VIwigCCJ5QNX"
      }
    },
    {
      "cell_type": "markdown",
      "source": [
        "Utilizando técnicas avanzadas de análisis de datos, esta herramienta extrae y evalúa las preferencias y gustos de los usuarios en redes sociales, transformando esta información en recomendaciones de regalos personalizados. Con la finalidad de ofrecer opciones de regalos que no solo sean únicas y significativas, sino también accesibles y fáciles de adquirir, nuestro sistema aplica algoritmos inteligentes para sugerir regalos que mejor se alinean con los intereses de la persona. El resultado final es una lista curada de tres regalos ideales, acompañada de enlaces para su busqueda directa en Amazon, brindando una solución completa y eficiente para hacer de cada ocasión especial un momento inolvidable."
      ],
      "metadata": {
        "id": "OVE9ntGM5WSO"
      }
    },
    {
      "cell_type": "markdown",
      "source": [
        "El código presentado es una función de Python para importar y procesar datos de un archivo CSV. La función leer_csv extrae una lista de intereses o 'seguidos' de una columna específica, basada en el nombre del archivo y la columna proporcionados por el usuario. Este proceso es fundamental para analizar las preferencias de una persona, facilitando la generación personalizada de ideas de regalos. La interacción con el usuario se realiza a través de entradas en la consola, donde se solicitan los nombres del archivo CSV, la columna relevante y la persona destinataria del regalo."
      ],
      "metadata": {
        "id": "jnQpQM0p9yQB"
      }
    },
    {
      "cell_type": "markdown",
      "source": [
        "Este paquete es la biblioteca oficial proporcionada por OpenAI, que facilita la interacción con las APIs de OpenAI, incluyendo el acceso a modelos avanzados de inteligencia artificial"
      ],
      "metadata": {
        "id": "IjIDETzh-SEg"
      }
    },
    {
      "cell_type": "code",
      "source": [
        "pip install openai==0.28"
      ],
      "metadata": {
        "id": "WEl1z__g6j18"
      },
      "execution_count": null,
      "outputs": []
    },
    {
      "cell_type": "markdown",
      "source": [
        "Empezamos con el codigo importanto todos los recursos necesarios y solicitando los datos para poder hacer el análisis requerido"
      ],
      "metadata": {
        "id": "tlbtnDxT0izJ"
      }
    },
    {
      "cell_type": "code",
      "source": [
        "import csv\n",
        "import re\n",
        "import openai\n",
        "import os\n",
        "import unicodedata\n",
        "\n",
        "# Pedir al usuario información relevante\n",
        "nombre_archivo = input(\"Ingresa el nombre del archivo CSV (incluyendo la extensión .csv): \")\n",
        "nombre_persona = input(\"Ingresa el nombre de la persona a la que le vas a dar el regalo: \")\n",
        "genero_persona = input(\"Ingresa el genero de la persona: \")\n",
        "edad_persona = input(\"Ingresa la edad aproximada de la persona: \")\n",
        "datos_persona = \"La persona tiene\"+ edad_persona + \" años y su genero es \"+ genero_persona"
      ],
      "metadata": {
        "colab": {
          "base_uri": "https://localhost:8080/"
        },
        "id": "zjqXI33Z5BZt",
        "outputId": "1f3321dc-a569-4cd6-e66f-98d48070106f",
        "collapsed": true
      },
      "execution_count": null,
      "outputs": [
        {
          "name": "stdout",
          "output_type": "stream",
          "text": [
            "Ingresa el nombre del archivo CSV (incluyendo la extensión .csv): IG-Follower-Email-Scraper_1702104246421.csv\n",
            "Ingresa el nombre de la persona a la que le vas a dar el regalo: Paulina\n",
            "Ingresa el genero de la persona: Femenino\n",
            "Ingresa la edad aproximada de la persona: 22\n"
          ]
        }
      ]
    },
    {
      "cell_type": "markdown",
      "source": [
        "En esta parte solicitamos que se ingrese la clave API KEY para mantener la seguridad y personalización de la persona a usar el modelo"
      ],
      "metadata": {
        "id": "5ewN5llu0tXK"
      }
    },
    {
      "cell_type": "code",
      "source": [
        "# Pedir al usuario que ingrese la clave API\n",
        "openai_api_key = input(\"Ingresa tu clave API de OpenAI: \")\n",
        "os.environ[\"OPENAI_API_KEY\"] = openai_api_key"
      ],
      "metadata": {
        "id": "TXjCu9ZJW1WE"
      },
      "execution_count": null,
      "outputs": []
    },
    {
      "cell_type": "markdown",
      "source": [
        "Requerimos seleccionar solo la columna de usuarios y limpiarla para que la inteligencia artificial pueda trabajar de mejor manera"
      ],
      "metadata": {
        "id": "w-BLZC1I09IQ"
      }
    },
    {
      "cell_type": "code",
      "source": [
        "#Lee el archivo csv, lo limita a 1000 usuarios como maximo y limpia los datos para que sean faciles de leer para la IA\n",
        "def leer_y_limpiar_csv(nombre_archivo, limite=1000):\n",
        "    seguidos = []\n",
        "    with open(nombre_archivo, mode='r', encoding='utf-8') as csvfile:\n",
        "        reader = csv.reader(csvfile)\n",
        "        for row in reader:\n",
        "            if row and len(seguidos) < limite:  # Verifica si la fila no está vacía y si no se ha alcanzado el límite\n",
        "                usuario = row[4]  # Asumiendo que los nombres de usuario están en la quinta columna (índice 4)\n",
        "                usuario_limpio = re.sub(r'[0-9]', '', usuario)  # Eliminar números\n",
        "                usuario_limpio = usuario_limpio.replace('_', ' ').replace('.', ' ')  # Reemplazar '_' y '.' con espacios\n",
        "                seguidos.append(usuario_limpio)\n",
        "            else:\n",
        "                break  # Romper el bucle si se alcanza el límite\n",
        "    return seguidos"
      ],
      "metadata": {
        "id": "x6igiwVA1tgT"
      },
      "execution_count": null,
      "outputs": []
    },
    {
      "cell_type": "markdown",
      "source": [
        "Este código utiliza la API de OpenAI para generar recomendaciones de regalos personalizadas. Mediante un prompt detallado, solicita a ChatGPT-4 sugerir tres regalos asequibles basados en una lista de intereses, proporcionando así ideas creativas y específicas para obsequios navideños."
      ],
      "metadata": {
        "id": "y31K5lZl-U6R"
      }
    },
    {
      "cell_type": "code",
      "source": [
        "seguidos = leer_y_limpiar_csv(nombre_archivo)\n",
        "def generar_recomendaciones_de_regalos(seguidos, openai_api_key):\n",
        "    openai.api_key = openai_api_key\n",
        "\n",
        "    # Crear un prompt que incluya los seguidos y pida recomendaciones de regalos\n",
        "    prompt = \"Basado en los siguientes intereses y personas seguidas: {}\\n\".format(\", \".join(seguidos))\n",
        "    prompt += \"Por favor, sugiere 3 regalos baratos y fáciles de encontrar para Navidad. Solo requiero titulos cortos, porque con esos titulos voy a buscar los productos en Amazon.\"\n",
        "    prompt += \"Por favor ten encuenta también los siguientes factores de genero y edad aproximada: {}\\n\".format(\", \".join(datos_persona))\n",
        "\n",
        "    try:\n",
        "        response = openai.ChatCompletion.create(\n",
        "            model=\"gpt-4\",  # Asegúrate de que este es el modelo correcto\n",
        "            messages=[\n",
        "                {\"role\": \"system\", \"content\": \"Tu prompt de sistema aquí\"},\n",
        "                {\"role\": \"user\", \"content\": prompt}\n",
        "            ]\n",
        "        )\n",
        "        return response.choices[0].message['content'].strip().split('\\n')\n",
        "    except Exception as e:\n",
        "        print(f\"Error al generar recomendaciones: {e}\")\n",
        "        return []\n",
        "\n",
        "# Guardar las recomendaciones de regalos\n",
        "regalos = generar_recomendaciones_de_regalos(seguidos, openai_api_key)"
      ],
      "metadata": {
        "id": "YiOdE6hR7LIB"
      },
      "execution_count": null,
      "outputs": []
    },
    {
      "cell_type": "markdown",
      "source": [
        "Este código toma cada título de regalo en la lista regalos, elimina los acentos, lo divide en palabras y crea un enlace de búsqueda de Amazon México utilizando esas palabras. Luego imprime cada regalo junto con su respectivo enlace."
      ],
      "metadata": {
        "id": "MDRX7Kb17vPq"
      }
    },
    {
      "cell_type": "code",
      "source": [
        "#Quitar los acentos para generar correctamente los links\n",
        "import unicodedata\n",
        "def eliminar_acentos(texto):\n",
        "    return unicodedata.normalize('NFKD', texto).encode('ASCII', 'ignore').decode('ASCII')\n",
        "\n",
        "# Generar los links de búsqueda de Amazon México\n",
        "def generar_enlace_amazon(busqueda):\n",
        "    # Eliminar comillas y otros caracteres no deseados\n",
        "    busqueda_limpia = eliminar_acentos(busqueda.replace('\"', '').replace('.', '').replace(',', ''))\n",
        "    # Separar las palabras y unirlas con '+'\n",
        "    palabras = busqueda_limpia.split()\n",
        "    url_amazon = \"https://www.amazon.com.mx/s?k=\" + '+'.join(palabras)\n",
        "    return url_amazon\n",
        "\n",
        "# Guardar los enlaces\n",
        "enlaces_amazon = [generar_enlace_amazon(regalo) for regalo in regalos]\n",
        "\n",
        "# Texto introductorio para la lista de regalos\n",
        "print(f\"Dada la lista de seguidos que me diste de {nombre_persona}, pienso que estos regalos pueden gustarle: \")\n",
        "\n",
        "for regalo, enlace in zip(regalos, enlaces_amazon):\n",
        "    print(f\"Regalo: {regalo}, Enlace de Amazon: {enlace}\")\n"
      ],
      "metadata": {
        "id": "iuP5c01S7sC7",
        "colab": {
          "base_uri": "https://localhost:8080/"
        },
        "outputId": "f49f8cbd-b05f-44e4-cfd7-2eb64ac0d8ab"
      },
      "execution_count": null,
      "outputs": [
        {
          "output_type": "stream",
          "name": "stdout",
          "text": [
            "Dada la lista de seguidos que me diste de Paulina, pienso que estos regalos pueden gustarle: \n",
            "Regalo: 1. \"Libro de cocina saludable\", Enlace de Amazon: https://www.amazon.com.mx/s?k=1+Libro+de+cocina+saludable\n",
            "Regalo: 2. \"Set de joyería minimalista\", Enlace de Amazon: https://www.amazon.com.mx/s?k=2+Set+de+joyeria+minimalista\n",
            "Regalo: 3. \"Kit de cuidado para plantas\", Enlace de Amazon: https://www.amazon.com.mx/s?k=3+Kit+de+cuidado+para+plantas\n"
          ]
        }
      ]
    },
    {
      "cell_type": "markdown",
      "source": [
        "Este fragmento de código define una función en Python que, utilizando la API de OpenAI, genera explicaciones personalizadas sobre por qué ciertos regalos son adecuados para una persona específica. La función crea un prompt detallado que incluye los intereses de la persona y los regalos sugeridos, y luego utiliza ChatGPT-4 para elaborar una explicación coherente y bien fundamentada."
      ],
      "metadata": {
        "id": "RJTHBjmg--ZP"
      }
    },
    {
      "cell_type": "code",
      "source": [
        "def generar_explicaciones(regalos, nombre_persona):\n",
        "    # Simplificar el prompt para evitar exceder el límite de caracteres\n",
        "    prompt = f\"Explica por qué crees que los siguientes regalos son adecuados para {nombre_persona} dado los datos que analisaste basandote en su lista de seguidos de instagram, quien tiene intereses variados:\\n\"\n",
        "    for regalo in regalos:\n",
        "        prompt += f\"- {regalo}\\n\"\n",
        "    prompt += \"Explicación:\"\n",
        "\n",
        "    try:\n",
        "        response = openai.ChatCompletion.create(\n",
        "            model=\"gpt-4\",\n",
        "            messages=[\n",
        "                {\"role\": \"system\", \"content\": \"You are a helpful assistant.\"},\n",
        "                {\"role\": \"user\", \"content\": prompt}\n",
        "            ]\n",
        "        )\n",
        "        return response.choices[0].message[\"content\"]\n",
        "    except Exception as e:\n",
        "        print(f\"Error al generar explicaciones: {e}\")\n",
        "        return \"\"\n",
        "\n",
        "# Ejemplo de uso de la función\n",
        "explicaciones = generar_explicaciones(regalos, nombre_persona)\n",
        "print(\"La explicación para estos regalos es:\\n\", explicaciones)"
      ],
      "metadata": {
        "id": "_pLNxmoN85Jv",
        "colab": {
          "base_uri": "https://localhost:8080/"
        },
        "outputId": "db49ac07-c7b7-4524-bcae-c23bd2817c49"
      },
      "execution_count": null,
      "outputs": [
        {
          "output_type": "stream",
          "name": "stdout",
          "text": [
            "La explicación para estos regalos es:\n",
            " 1. \"Libro de cocina saludable\": Paulina sigue varias páginas relacionadas con el fitness y la alimentación saludable en Instagram. Este interés en la comida sana y su deseo aparente de mantener un estilo de vida saludable hacen que un libro de cocina saludable sea un regalo ideal para ella. Ella podrá encontrar nuevas recetas para apoyar su dieta y mantenerla emocionada y comprometida con su salud.\n",
            "\n",
            "2. \"Set de joyería minimalista\": Al analizar a quienes sigue Paulina en Instagram, notamos que sigue a varias marcas y personas influyentes en el campo de la moda, especialmente en lo que respecta a tendencias minimalistas y elegantes. Por lo tanto, un set de joyería minimalista seguramente complementará su sentido del estilo y será muy apreciado.\n",
            "\n",
            "3. \"Kit de cuidado para plantas\": Paulina sigue a algunas páginas de jardinería y plantas en Instagram, lo que sugiere que tiene interés en las plantas y posiblemente ya tenga algunas o esté interesada en empezar su propio jardín en casa. Un kit de cuidado para plantas sería un regalo práctico y personal que ayudaría a cultivar su interés en las plantas.\n"
          ]
        }
      ]
    },
    {
      "cell_type": "markdown",
      "source": [
        "Este fragmento de código nos ayudara a poder visualizar de una manera creativa como podrían verse los regalos sugeridos debajo del árbol navideño"
      ],
      "metadata": {
        "id": "QpRzAYoA0FV2"
      }
    },
    {
      "cell_type": "code",
      "source": [
        "#Generar la imagen con Dalle3\n",
        "def generar_imagen_dalle(descripcion, openai_api_key):\n",
        "    openai.api_key = openai_api_key\n",
        "\n",
        "    try:\n",
        "        response = openai.Image.create(\n",
        "            model=\"dall-e-3\",  #modelo de DALL·E 3\n",
        "            prompt=descripcion,\n",
        "            n=1,  # Número de imágenes a generar\n",
        "            size=\"1024x1024\"  # Tamaño de la imagen\n",
        "        )\n",
        "        return response.data[0]['url']  # URL de la imagen generada\n",
        "    except Exception as e:\n",
        "        print(f\"Error al generar la imagen: {e}\")\n",
        "        return \"\"\n",
        "\n",
        "# Imprimir la imagen\n",
        "descripcion = f\"Una escena navideña con un árbol decorado y los tres regalos sugeridos, siendo todos visibles. Que son: {regalos}\"\n",
        "url_imagen = generar_imagen_dalle(descripcion, openai_api_key)\n",
        "print(\"URL de la imagen generada:\", url_imagen)\n"
      ],
      "metadata": {
        "id": "VLJLDPbF2SLi",
        "colab": {
          "base_uri": "https://localhost:8080/"
        },
        "outputId": "da84bf7a-da1b-4e70-e68a-027ecb8d4bb8"
      },
      "execution_count": null,
      "outputs": [
        {
          "output_type": "stream",
          "name": "stdout",
          "text": [
            "URL de la imagen generada: https://oaidalleapiprodscus.blob.core.windows.net/private/org-xiWjKf2e54NggRLrsfLh5JFQ/user-cfoGGhomQXBmh3hOlZhgp0dr/img-TQMBccsugj2dkCVokWZwTL5n.png?st=2023-12-10T21%3A03%3A31Z&se=2023-12-10T23%3A03%3A31Z&sp=r&sv=2021-08-06&sr=b&rscd=inline&rsct=image/png&skoid=6aaadede-4fb3-4698-a8f6-684d7786b067&sktid=a48cca56-e6da-484e-a814-9c849652bcb3&skt=2023-12-09T23%3A11%3A47Z&ske=2023-12-10T23%3A11%3A47Z&sks=b&skv=2021-08-06&sig=Kr8C%2Bv3yYrilVOUEEXGKRfAW/leArCoaXnfAfv7v6X0%3D\n"
          ]
        }
      ]
    },
    {
      "cell_type": "markdown",
      "source": [
        "Es importante calcular los costos del resultado del proceso para generar los posibles regalos, por lo que aquí esta el código para eso"
      ],
      "metadata": {
        "id": "wMT3kCFqYnvE"
      }
    },
    {
      "cell_type": "code",
      "source": [
        "# Ejemplo de cálculo de costo considerando la longitud de las respuestas de ChatGPT y una imagen de DALL-E\n",
        "\n",
        "# Tarifas estimadas\n",
        "PRECIO_CHATGPT_POR_TOKEN = 0.00002  # Precio estimado por token para ChatGPT\n",
        "PRECIO_DALLE_POR_IMAGEN = 0.02      # Precio por imagen generada por DALL·E\n",
        "\n",
        "# Estimación de tokens: Asumiendo que cada token tiene aproximadamente 4 caracteres\n",
        "num_tokens_regalos = sum(len(regalo) for regalo in regalos) / 4\n",
        "num_tokens_amazon = sum(len(enlace) for enlace in enlaces_amazon) / 4\n",
        "num_tokens_explicacion = len(\"La explicación para estos regalos es: \" + explicaciones) / 4\n",
        "\n",
        "# Calcular el costo total de los tokens\n",
        "costo_tokens = (num_tokens_regalos + num_tokens_amazon + num_tokens_explicacion) * PRECIO_CHATGPT_POR_TOKEN\n",
        "\n",
        "# Calcular el costo total incluyendo una imagen de DALL·E\n",
        "costo_total = costo_tokens + PRECIO_DALLE_POR_IMAGEN\n",
        "\n",
        "print(f\"El costo total en dolares americanos de esta ejecución fue de: ${costo_total:.5f}\")"
      ],
      "metadata": {
        "id": "2bNW3NQRXUnd",
        "colab": {
          "base_uri": "https://localhost:8080/"
        },
        "outputId": "1f6e2588-a87a-4aed-d730-3b6a6bc8c66d"
      },
      "execution_count": null,
      "outputs": [
        {
          "output_type": "stream",
          "name": "stdout",
          "text": [
            "El costo total en dolares americanos de esta ejecución fue de: $0.02708\n"
          ]
        }
      ]
    }
  ]
}